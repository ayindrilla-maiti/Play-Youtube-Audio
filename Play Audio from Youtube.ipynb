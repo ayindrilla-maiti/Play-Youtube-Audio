{
 "cells": [
  {
   "cell_type": "code",
   "execution_count": 38,
   "metadata": {},
   "outputs": [],
   "source": [
    "import pafy\n",
    "import vlc"
   ]
  },
  {
   "cell_type": "code",
   "execution_count": 48,
   "metadata": {},
   "outputs": [
    {
     "name": "stdout",
     "output_type": "stream",
     "text": [
      "Title: KGF: Gali Gali Video Song | Neha Kakkar | Mouni Roy | Tanishk Bagchi | Rashmi Virag | T-SERIES\n",
      "Author: T-Series\n",
      "ID: rJqX-YUZddc\n",
      "Duration: 00:02:09\n",
      "Rating: None\n",
      "Views: 101773347\n",
      "Thumbnail: http://i.ytimg.com/vi/rJqX-YUZddc/default.jpg\n",
      "\n",
      " https://r1---sn-5aap5ojx-jj0s.googlevideo.com/videoplayback?initcwndbps=690000&ipbits=0&itag=251&gir=yes&dur=129.401&lmt=1544732902874899&key=yt6&source=youtube&requiressl=yes&clen=2151040&mm=31%2C29&expire=1548191725&ei=jTNHXLz2Jue3z7sPkJCu8A0&ms=au%2Crdu&mt=1548170000&pl=24&mv=m&mn=sn-5aap5ojx-jj0s%2Csn-h557snl6&txp=5511222&mime=audio%2Fwebm&sparams=clen%2Cdur%2Cei%2Cgir%2Cid%2Cinitcwndbps%2Cip%2Cipbits%2Citag%2Ckeepalive%2Clmt%2Cmime%2Cmm%2Cmn%2Cms%2Cmv%2Cpl%2Crequiressl%2Csource%2Cexpire&ip=103.119.56.199&id=o-AFYBeEiX3PLJRFc49YB6hh3TSc-YbktRQEfkWjB4BBNw&fvip=5&c=WEB&keepalive=yes&signature=533802550C332003D16AB09FDE533713F2AD4900.33EC34B77717B153624FB2AB17B5794D19383BEB&ratebypass=yes\n"
     ]
    }
   ],
   "source": [
    "urls = ['https://www.youtube.com/watch?v=P6N1wenQtbE',\n",
    "       'https://www.youtube.com/watch?v=rJqX-YUZddc']\n",
    "song = pafy.new(urls[1])\n",
    "print(song)\n",
    "best = song.getbestaudio()\n",
    "playurl = best.url\n",
    "print(\"\\n\",playurl)"
   ]
  },
  {
   "cell_type": "code",
   "execution_count": 44,
   "metadata": {},
   "outputs": [
    {
     "name": "stdout",
     "output_type": "stream",
     "text": [
      "Now playing -  00:02:09\n"
     ]
    }
   ],
   "source": [
    "print(\"Now playing - \",song.duration)"
   ]
  },
  {
   "cell_type": "code",
   "execution_count": 47,
   "metadata": {},
   "outputs": [
    {
     "data": {
      "text/plain": [
       "True"
      ]
     },
     "execution_count": 47,
     "metadata": {},
     "output_type": "execute_result"
    }
   ],
   "source": [
    "import webbrowser\n",
    "\n",
    "# MacOS\n",
    "#chrome_path = 'open -a /Applications/Google\\ Chrome.app %s'\n",
    "\n",
    "# Windows\n",
    "# chrome_path = 'C:/Program Files (x86)/Google/Chrome/Application/chrome.exe %s'\n",
    "\n",
    "# Linux\n",
    "chrome_path = '/usr/bin/google-chrome %s'\n",
    "chrome_path_incognito = chrome_path + ' -incognito'\n",
    "\n",
    "webbrowser.get(chrome_path_incognito).open(playurl)"
   ]
  },
  {
   "cell_type": "code",
   "execution_count": 41,
   "metadata": {},
   "outputs": [
    {
     "name": "stdout",
     "output_type": "stream",
     "text": [
      "/home/thirdeye/anaconda3/bin/pip\r\n"
     ]
    }
   ],
   "source": [
    "!which pip"
   ]
  }
 ],
 "metadata": {
  "kernelspec": {
   "display_name": "Python 3",
   "language": "python",
   "name": "python3"
  },
  "language_info": {
   "codemirror_mode": {
    "name": "ipython",
    "version": 3
   },
   "file_extension": ".py",
   "mimetype": "text/x-python",
   "name": "python",
   "nbconvert_exporter": "python",
   "pygments_lexer": "ipython3",
   "version": "3.7.0"
  }
 },
 "nbformat": 4,
 "nbformat_minor": 2
}
