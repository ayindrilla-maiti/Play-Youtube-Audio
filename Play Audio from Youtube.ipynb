{
 "cells": [
  {
   "cell_type": "code",
   "execution_count": 5,
   "metadata": {},
   "outputs": [],
   "source": [
    "import pafy\n",
    "import time\n",
    "import pandas as pd\n",
    "from IPython.display import HTML"
   ]
  },
  {
   "cell_type": "code",
   "execution_count": 6,
   "metadata": {},
   "outputs": [],
   "source": [
    "urls = ['https://www.youtube.com/watch?v=P6N1wenQtbE',\n",
    "       'https://www.youtube.com/watch?v=rJqX-YUZddc']"
   ]
  },
  {
   "cell_type": "code",
   "execution_count": 7,
   "metadata": {},
   "outputs": [],
   "source": [
    "audio_list = []\n",
    "song_list=[]\n",
    "duration_list=[]\n",
    "for url in urls:\n",
    "    song = pafy.new(url)\n",
    "    best = song.getbestaudio()\n",
    "    playurl = best.url\n",
    "    song_list.append(song)\n",
    "    duration_list.append(song.duration)\n",
    "    audio_list.append(playurl)"
   ]
  },
  {
   "cell_type": "code",
   "execution_count": 8,
   "metadata": {},
   "outputs": [
    {
     "data": {
      "text/html": [
       "<div>\n",
       "<style scoped>\n",
       "    .dataframe tbody tr th:only-of-type {\n",
       "        vertical-align: middle;\n",
       "    }\n",
       "\n",
       "    .dataframe tbody tr th {\n",
       "        vertical-align: top;\n",
       "    }\n",
       "\n",
       "    .dataframe thead th {\n",
       "        text-align: right;\n",
       "    }\n",
       "</style>\n",
       "<table border=\"1\" class=\"dataframe\">\n",
       "  <thead>\n",
       "    <tr style=\"text-align: right;\">\n",
       "      <th></th>\n",
       "      <th>Song</th>\n",
       "      <th>Duration</th>\n",
       "      <th>Url</th>\n",
       "    </tr>\n",
       "  </thead>\n",
       "  <tbody>\n",
       "    <tr>\n",
       "      <th>0</th>\n",
       "      <td>Title: Beh chala | URI - The Surgical Strike |...</td>\n",
       "      <td>00:05:16</td>\n",
       "      <td>https://r5---sn-cvh7kney.googlevideo.com/video...</td>\n",
       "    </tr>\n",
       "    <tr>\n",
       "      <th>1</th>\n",
       "      <td>Title: KGF: Gali Gali Video Song | Neha Kakkar...</td>\n",
       "      <td>00:02:09</td>\n",
       "      <td>https://r5---sn-cvh7knes.googlevideo.com/video...</td>\n",
       "    </tr>\n",
       "  </tbody>\n",
       "</table>\n",
       "</div>"
      ],
      "text/plain": [
       "                                                Song  Duration  \\\n",
       "0  Title: Beh chala | URI - The Surgical Strike |...  00:05:16   \n",
       "1  Title: KGF: Gali Gali Video Song | Neha Kakkar...  00:02:09   \n",
       "\n",
       "                                                 Url  \n",
       "0  https://r5---sn-cvh7kney.googlevideo.com/video...  \n",
       "1  https://r5---sn-cvh7knes.googlevideo.com/video...  "
      ]
     },
     "execution_count": 8,
     "metadata": {},
     "output_type": "execute_result"
    }
   ],
   "source": [
    "audiodf = pd.DataFrame(list(zip(song_list,duration_list,audio_list)),columns=['Song','Duration','Url'])\n",
    "audiodf"
   ]
  },
  {
   "cell_type": "code",
   "execution_count": 9,
   "metadata": {},
   "outputs": [
    {
     "data": {
      "text/html": [
       "<audio controls autoplay><source src=https://r5---sn-cvh7knes.googlevideo.com/videoplayback?dur=129.401&fvip=5&initcwndbps=527500&beids=9466585&txp=5511222&keepalive=yes&key=yt6&c=WEB&itag=251&clen=2151040&source=youtube&mm=31%2C29&mn=sn-cvh7knes%2Csn-cvh76nez&pl=22&ip=14.142.120.195&mime=audio%2Fwebm&requiressl=yes&expire=1548340641&mt=1548318957&ipbits=0&mv=m&id=o-AG6E_NwcGHXXeman6UNlXLfi4uFi1y8usDC8jQplxTKF&ms=au%2Crdu&sparams=clen%2Cdur%2Cei%2Cgir%2Cid%2Cinitcwndbps%2Cip%2Cipbits%2Citag%2Ckeepalive%2Clmt%2Cmime%2Cmm%2Cmn%2Cms%2Cmv%2Cpl%2Crequiressl%2Csource%2Cexpire&lmt=1544732902874899&gir=yes&ei=QHlJXJSQOYKW7gL7loT4CA&signature=3DFD183745B34AD0207CB211DEE2911E05EA66F6.B46AC4102753C6B9110A133A3E69482C933C7FCF&ratebypass=yestype=\"video/mp4\"></audio>"
      ],
      "text/plain": [
       "<IPython.core.display.HTML object>"
      ]
     },
     "execution_count": 9,
     "metadata": {},
     "output_type": "execute_result"
    }
   ],
   "source": [
    "left=\"\"\"<audio controls autoplay><source src=\"\"\"\n",
    "right=\"\"\"type=\"video/mp4\"></audio>\"\"\"\n",
    "url=playurl\n",
    "HTML(left+url+right)\n",
    "#time.sleep(hour+mn+sec)"
   ]
  },
  {
   "cell_type": "code",
   "execution_count": 10,
   "metadata": {},
   "outputs": [],
   "source": [
    "time_value = song.duration.split(':')\n",
    "hour = int(time_value[0])*3600\n",
    "mn = int(time_value[1])*60\n",
    "sec = int(time_value[2])"
   ]
  },
  {
   "cell_type": "code",
   "execution_count": 11,
   "metadata": {},
   "outputs": [
    {
     "name": "stdout",
     "output_type": "stream",
     "text": [
      "/home/thirdeye/anaconda3/bin/pip\r\n"
     ]
    }
   ],
   "source": [
    "!which pip"
   ]
  }
 ],
 "metadata": {
  "kernelspec": {
   "display_name": "Python 3",
   "language": "python",
   "name": "python3"
  },
  "language_info": {
   "codemirror_mode": {
    "name": "ipython",
    "version": 3
   },
   "file_extension": ".py",
   "mimetype": "text/x-python",
   "name": "python",
   "nbconvert_exporter": "python",
   "pygments_lexer": "ipython3",
   "version": "3.7.0"
  }
 },
 "nbformat": 4,
 "nbformat_minor": 2
}
