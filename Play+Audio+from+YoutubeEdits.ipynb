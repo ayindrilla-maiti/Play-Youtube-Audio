{
 "cells": [
  {
   "cell_type": "code",
   "execution_count": 1,
   "metadata": {
    "collapsed": true
   },
   "outputs": [],
   "source": [
    "import pafy\n",
    "# import vlc"
   ]
  },
  {
   "cell_type": "markdown",
   "metadata": {},
   "source": [
    "Get list of youtube urls <br/>\n",
    "Parse each url to get the audio url<br/>\n",
    "Pass each audio url sequentially to the play module<br/>\n",
    "Get Process id of the browser from the play module to close it after the song ends <br/>\n"
   ]
  },
  {
   "cell_type": "code",
   "execution_count": 2,
   "metadata": {
    "collapsed": true
   },
   "outputs": [],
   "source": [
    "def parse_url():\n",
    " playlist=[]\n",
    " urls = ['https://www.youtube.com/watch?v=P6N1wenQtbE',\n",
    "       'https://www.youtube.com/watch?v=rJqX-YUZddc','https://www.youtube.com/watch?v=za4Q_7gYyS4',\n",
    "        'https://www.youtube.com/watch?v=lyxTPc96P28','https://www.youtube.com/watch?v=hs3eeBTbmoc',\n",
    "        'https://www.youtube.com/watch?v=HexFqifusOk','https://www.youtube.com/watch?v=cYOB941gyXI']\n",
    " for item in urls:\n",
    "  song = pafy.new(item)\n",
    "#   print(song)\n",
    "  best = song.getbestaudio()\n",
    "  playurl = best.url\n",
    "  playlist.append(playurl)\n",
    "#  print(\"\\n\",playurl)\n",
    " return playlist"
   ]
  },
  {
   "cell_type": "code",
   "execution_count": 3,
   "metadata": {},
   "outputs": [],
   "source": [
    "# parse_url\n",
    "# print (parse_url())\n",
    "# print(\"Now playing - \",song.duration)"
   ]
  },
  {
   "cell_type": "code",
   "execution_count": 4,
   "metadata": {},
   "outputs": [],
   "source": [
    "import webbrowser\n",
    "\n",
    "# MacOS\n",
    "#chrome_path = 'open -a /Applications/Google\\ Chrome.app %s'\n",
    "\n",
    "# Windows\n",
    "chrome_path = 'C:/Program Files (x86)/Google/Chrome/Application/chrome.exe %s'\n",
    "\n",
    "# Linux\n",
    "# chrome_path = '/usr/bin/google-chrome %s'\n",
    "chrome_path_incognito = chrome_path + ' -incognito'\n",
    "songs=parse_url()\n",
    "# print(songs)\n",
    "for item in songs:\n",
    "  webbrowser.get(chrome_path_incognito).open(item)"
   ]
  },
  {
   "cell_type": "code",
   "execution_count": 56,
   "metadata": {
    "collapsed": true
   },
   "outputs": [],
   "source": [
    "import webbrowser"
   ]
  },
  {
   "cell_type": "code",
   "execution_count": 24,
   "metadata": {},
   "outputs": [
    {
     "name": "stdout",
     "output_type": "stream",
     "text": [
      "/c/Program Files (x86)/Microsoft Visual Studio/Shared/Anaconda3_64/Scripts/pip\n"
     ]
    }
   ],
   "source": [
    "!which pip"
   ]
  },
  {
   "cell_type": "code",
   "execution_count": 28,
   "metadata": {},
   "outputs": [
    {
     "name": "stderr",
     "output_type": "stream",
     "text": [
      "which: no Pafy in (/c/Program Files (x86)/Microsoft Visual Studio/Shared/Anaconda3_64:/c/Program Files (x86)/Microsoft Visual Studio/Shared/Anaconda3_64/Library/mingw-w64/bin:/c/Program Files (x86)/Microsoft Visual Studio/Shared/Anaconda3_64/Library/usr/bin:/c/Program Files (x86)/Microsoft Visual Studio/Shared/Anaconda3_64/Library/bin:/c/Program Files (x86)/Microsoft Visual Studio/Shared/Anaconda3_64/Scripts:/c/Program Files (x86)/Microsoft Visual Studio/Shared/Anaconda3_64/bin:/c/Program Files (x86)/Microsoft Visual Studio/Shared/Anaconda3_64/condabin:/c/Program Files (x86)/Microsoft Visual Studio/Shared/Anaconda3_64/condabin:/c/Program Files (x86)/Microsoft Visual Studio/Shared/Anaconda3_64:/c/Program Files (x86)/Microsoft Visual Studio/Shared/Anaconda3_64/Library/mingw-w64/bin:/c/Program Files (x86)/Microsoft Visual Studio/Shared/Anaconda3_64/Library/usr/bin:/c/Program Files (x86)/Microsoft Visual Studio/Shared/Anaconda3_64/Library/bin:/c/Program Files (x86)/Microsoft Visual Studio/Shared/Anaconda3_64/Scripts:/c/Program Files (x86)/Microsoft Visual Studio/Shared/Anaconda3_64/Library/bin:/c/Program Files (x86)/Microsoft SDKs/Azure/CLI2/wbin:/c/Program Files/Docker/Docker/Resources/bin:/c/Program Files/Microsoft MPI/Bin:/c/WINDOWS/system32:/c/WINDOWS:/c/WINDOWS/System32/Wbem:/c/WINDOWS/System32/WindowsPowerShell/v1.0:/c/Program Files/dotnet:/c/Program Files/Microsoft SQL Server/130/Tools/Binn:/c/Program Files (x86)/Microsoft SQL Server/Client SDK/ODBC/130/Tools/Binn:/c/Program Files (x86)/Microsoft SQL Server/140/Tools/Binn:/c/Program Files (x86)/Microsoft SQL Server/140/DTS/Binn:/c/Program Files (x86)/Microsoft SQL Server/140/Tools/Binn/ManagementStudio:/c/Program Files (x86)/Microsoft SQL Server/110/DTS/Binn:/c/Program Files (x86)/Microsoft SQL Server/120/DTS/Binn:/c/Program Files (x86)/Microsoft SQL Server/130/DTS/Binn:/cmd:/mingw64/bin:/usr/bin:/c/curl_7_53_1_openssl_nghttp2_x64:/c/WINDOWS/System32/OpenSSH:/c/Users/ThirdEye/AppData/Local/Programs/Python/Python36-32:/c/Program Files/Microsoft VS Code/bin:/c/Program Files/nodejs:/c/Program Files (x86):/c/Users/ThirdEye/AppData/Local/Programs/Python/Python36-32/Scripts:/c/Program Files (x86)/dotnet:/c/Program Files/dotnet:/c/Program Files (x86)/Microsoft SQL Server/110/Tools/Binn:/c/Users/ThirdEye/AppData/Local/Programs/Python/Python36-32/Scripts:/c/Program Files/Microsoft/Web Platform Installer:/c/WINDOWS/system32/config/systemprofile/.dnx/bin:/c/Program Files/Microsoft DNX/Dnvm:/c/Program Files/Microsoft SQL Server/120/Tools/Binn:/c/Program Files/Java/jdk-11.0.1/bin:/c/Users/ThirdEye/AppData/Local/Microsoft/WindowsApps:/c/Users/ThirdEye/AppData/Local/Programs/Fiddler:/c/Users/ThirdEye/AppData/Local/Microsoft/WindowsApps:/c/Program Files/Microsoft VS Code/bin:/c/Users/ThirdEye/Documents/WindowsPowerShell/Scripts:/c/Users/ThirdEye/AppData/Roaming/npm:/c/Users/ThirdEye/AppData/Local/GitHubDesktop/bin:/c/Users/ThirdEye/AppData/Local/Programs/Python/Python36-32/Scripts:/c/Users/ThirdEye/.dotnet/tools:/c/Program Files/Java/jdk-11.0.1/bin)\n"
     ]
    }
   ],
   "source": [
    "# !which Pafy"
   ]
  },
  {
   "cell_type": "code",
   "execution_count": null,
   "metadata": {
    "collapsed": true
   },
   "outputs": [],
   "source": []
  }
 ],
 "metadata": {
  "kernelspec": {
   "display_name": "Python 3",
   "language": "python",
   "name": "python3"
  },
  "language_info": {
   "codemirror_mode": {
    "name": "ipython",
    "version": 3
   },
   "file_extension": ".py",
   "mimetype": "text/x-python",
   "name": "python",
   "nbconvert_exporter": "python",
   "pygments_lexer": "ipython3",
   "version": "3.6.2"
  }
 },
 "nbformat": 4,
 "nbformat_minor": 2
}
