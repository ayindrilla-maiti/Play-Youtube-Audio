{
 "cells": [
  {
   "cell_type": "code",
   "execution_count": 31,
   "metadata": {},
   "outputs": [],
   "source": [
    "import pafy\n",
    "# import vlc"
   ]
  },
  {
   "cell_type": "markdown",
   "metadata": {},
   "source": [
    "Get list of utube urls <br/>\n",
    "Parse each url to get the audio url<br/>\n",
    "Pass each audio url sequentially to the play module<br/>\n",
    "Get Process id of the browser from the play module to close it after the song ends <br/>\n"
   ]
  },
  {
   "cell_type": "code",
   "execution_count": 50,
   "metadata": {},
   "outputs": [],
   "source": [
    "def parse_url():\n",
    " playlist=[]\n",
    " urls = ['https://www.youtube.com/watch?v=P6N1wenQtbE',\n",
    "       'https://www.youtube.com/watch?v=rJqX-YUZddc','https://www.youtube.com/watch?v=za4Q_7gYyS4',\n",
    "        'https://www.youtube.com/watch?v=lyxTPc96P28','https://www.youtube.com/watch?v=hs3eeBTbmoc',\n",
    "        'https://www.youtube.com/watch?v=HexFqifusOk','https://www.youtube.com/watch?v=cYOB941gyXI']\n",
    " for item in urls:\n",
    "  song = pafy.new(item)\n",
    "#   print(song)\n",
    "  best = song.getbestaudio()\n",
    "  playurl = best.url\n",
    "  playlist.append(playurl)\n",
    "#  print(\"\\n\",playurl)\n",
    " return playlist"
   ]
  },
  {
   "cell_type": "code",
   "execution_count": 51,
   "metadata": {},
   "outputs": [
    {
     "name": "stdout",
     "output_type": "stream",
     "text": [
      "['https://r1---sn-fpnioxu-jj0e.googlevideo.com/videoplayback?fvip=6&txp=5511222&c=WEB&ei=fXRIXLDeJ8GG1Aadp4fQCg&mv=m&mt=1548252169&ms=au%2Crdu&source=youtube&mn=sn-fpnioxu-jj0e%2Csn-bvvbax-jj0e&pl=22&mm=31%2C29&requiressl=yes&dur=315.521&id=o-APsa-Rgwyved9h2VYBImo0D5ri8V2lOmhCXZY-QFwAMy&expire=1548273885&ipbits=0&sparams=clen%2Cdur%2Cei%2Cgir%2Cid%2Cinitcwndbps%2Cip%2Cipbits%2Citag%2Ckeepalive%2Clmt%2Cmime%2Cmm%2Cmn%2Cms%2Cmv%2Cnh%2Cpl%2Crequiressl%2Csource%2Cexpire&initcwndbps=787500&lmt=1548018061579047&nh=%2CIgppcjAxLmNjdTAxKg8yMjMuMjIzLjE1OC4yMDE&itag=251&key=yt6&mime=audio%2Fwebm&keepalive=yes&gir=yes&clen=5549491&ip=223.223.131.150&signature=4B30931AC6D4C49B56A07C0D650E987A9BFFC681.7C6FB2C56AAD0ABCDE31232C46E03CDEE850F20B&ratebypass=yes', 'https://r1---sn-fpnioxu-jj0l.googlevideo.com/videoplayback?pl=22&mm=31%2C29&ip=223.223.131.150&mn=sn-fpnioxu-jj0l%2Csn-bvvbax-jj0e&initcwndbps=712500&ms=au%2Crdu&itag=251&mt=1548252169&dur=129.401&mv=m&id=o-AC4J5fD2Na1aZN5d4o2COOATJCJC5-sFDpcg9dYV7xbm&sparams=clen%2Cdur%2Cei%2Cgir%2Cid%2Cinitcwndbps%2Cip%2Cipbits%2Citag%2Ckeepalive%2Clmt%2Cmime%2Cmm%2Cmn%2Cms%2Cmv%2Cnh%2Cpcm2cms%2Cpl%2Crequiressl%2Csource%2Cexpire&keepalive=yes&fvip=5&mime=audio%2Fwebm&gir=yes&requiressl=yes&lmt=1544732902874899&expire=1548273887&nh=%2CIgppcjAxLmNjdTAxKg8yMjMuMjIzLjE1OC4yMDE&ipbits=0&source=youtube&clen=2151040&pcm2cms=yes&ei=f3RIXNbmA5r0owPczYqAAw&txp=5511222&key=yt6&c=WEB&signature=335E664B77A4BD7D610ABC4279722E2DCF3A46F4.5BA668C481526CD43D7268D68CFDA6B942569905&ratebypass=yes', 'https://r2---sn-fpnioxu-jj0e.googlevideo.com/videoplayback?c=WEB&nh=%2CIgppcjAxLmNjdTAxKg8yMjMuMjIzLjE1OC4yMDE&pl=22&source=youtube&initcwndbps=787500&gir=yes&txp=3511222&expire=1548273888&ms=au%2Crdu&clen=3348497&pcm2=no&mv=m&mt=1548252169&ipbits=0&mn=sn-fpnioxu-jj0e%2Csn-bvvbax-jj0e&mm=31%2C29&requiressl=yes&beids=9466585&id=o-AA1wU_QPemARuR6FoAb1HLFRDHzwuLl3tfyCOtSlk8Ty&itag=251&dur=189.181&lmt=1546540015638335&key=yt6&ip=223.223.131.150&fvip=3&sparams=clen%2Cdur%2Cei%2Cgir%2Cid%2Cinitcwndbps%2Cip%2Cipbits%2Citag%2Ckeepalive%2Clmt%2Cmime%2Cmm%2Cmn%2Cms%2Cmv%2Cnh%2Cpcm2%2Cpl%2Crequiressl%2Csource%2Cexpire&keepalive=yes&ei=gHRIXLrmI4uiz7sPhcOjqAQ&mime=audio%2Fwebm&signature=CA91B4EF141A8DBC0EE3E0FEF1824EA94D4A944F.40AAF1ED7ADD8CBC45E19DBA832ECFEFD993EA98&ratebypass=yes', 'https://r2---sn-fpnioxu-jj0l.googlevideo.com/videoplayback?ip=223.223.131.150&gir=yes&mm=31%2C29&source=youtube&mn=sn-fpnioxu-jj0l%2Csn-bvvbax-jj0e&mt=1548252169&pl=22&mv=m&ei=gnRIXIWyBJ2nz7sPuK6qKA&id=o-AGRxJeGM5nt0TN6o9qSkccaVf6CG-7DHY-aXGXLp-Lp9&ms=au%2Crdu&ipbits=0&mime=audio%2Fwebm&dur=240.081&itag=251&keepalive=yes&nh=%2CIgppcjAxLmNjdTAxKg8yMjMuMjIzLjE1OC4yMDE&key=yt6&initcwndbps=712500&txp=5511222&c=WEB&fvip=3&sparams=clen%2Cdur%2Cei%2Cgir%2Cid%2Cinitcwndbps%2Cip%2Cipbits%2Citag%2Ckeepalive%2Clmt%2Cmime%2Cmm%2Cmn%2Cms%2Cmv%2Cnh%2Cpl%2Crequiressl%2Csource%2Cexpire&lmt=1544393028401917&requiressl=yes&clen=4145818&expire=1548273890&signature=B7887D814147D09382989F77036BBB21A3A76F90.17F3A84D94147098D1C92BFCAB322CEB0F770E52&ratebypass=yes', 'https://r3---sn-fpnioxu-jj0e.googlevideo.com/videoplayback?expire=1548273892&lmt=1547715624864483&c=WEB&ei=hHRIXKqKAaHHz7sPgd27qAM&ipbits=0&clen=5189088&key=yt6&requiressl=yes&nh=%2CIgppcjAxLmNjdTAxKg8yMjMuMjIzLjE1OC4yMDE&sparams=clen%2Cdur%2Cei%2Cgir%2Cid%2Cinitcwndbps%2Cip%2Cipbits%2Citag%2Ckeepalive%2Clmt%2Cmime%2Cmm%2Cmn%2Cms%2Cmv%2Cnh%2Cpl%2Crequiressl%2Csource%2Cexpire&gir=yes&beids=9466586&keepalive=yes&txp=5511222&dur=299.021&fvip=5&initcwndbps=787500&id=o-ABeDxrhibvfV-VQyxmpvHAhZieR2zEZwN7RyhTb7zJYl&pl=22&source=youtube&mv=m&mime=audio%2Fwebm&ms=au%2Crdu&mm=31%2C29&ip=223.223.131.150&mn=sn-fpnioxu-jj0e%2Csn-bvvbax-jj0e&mt=1548252169&itag=251&signature=4FFC0143100C12574B6FAACE693E1570D838CF92.CBE9FAD85F90EC97C63E4F0ECA2497554C490E2E&ratebypass=yes', 'https://r1---sn-fpnioxu-jj0l.googlevideo.com/videoplayback?xtags=tx%3D23724088&gir=yes&dur=279.661&mm=31%2C29&mn=sn-fpnioxu-jj0l%2Csn-bvvbax-jj0e&ms=au%2Crdu&mt=1548252169&mv=m&clen=5050543&lmt=1537328597996256&ipbits=0&ip=223.223.131.150&key=yt6&id=o-AHKtAp4sDokrsl6-VAN5aBU_En_a-b1kD4Gi0UayzRdD&ei=hXRIXKmRGfOg8QPJubi4CA&initcwndbps=712500&c=WEB&nh=%2CIgppcjAxLmNjdTAxKg8yMjMuMjIzLjE1OC4yMDE&pl=22&requiressl=yes&fvip=1&keepalive=yes&mime=audio%2Fwebm&source=youtube&sparams=clen%2Cdur%2Cei%2Cgir%2Cid%2Cinitcwndbps%2Cip%2Cipbits%2Citag%2Ckeepalive%2Clmt%2Cmime%2Cmm%2Cmn%2Cms%2Cmv%2Cnh%2Cpl%2Crequiressl%2Csource%2Cxtags%2Cexpire&expire=1548273893&itag=251&signature=57B6F17FBB5A47EEC0B9D23D23E62243FB05B2D6.C759F3E7E7F5F6973FCBE88E39203C991941D1F5&ratebypass=yes', 'https://r1---sn-fpnioxu-jj0e.googlevideo.com/videoplayback?initcwndbps=787500&clen=5071031&fvip=8&ipbits=0&source=youtube&keepalive=yes&pl=22&itag=251&dur=291.061&mime=audio%2Fwebm&c=WEB&expire=1548273894&nh=%2CIgppcjAxLmNjdTAxKg8yMjMuMjIzLjE1OC4yMDE&ei=hnRIXPfYMcOh8QPz5aLgBA&gir=yes&lmt=1543923335238650&gcr=in&requiressl=yes&sparams=clen%2Cdur%2Cei%2Cgcr%2Cgir%2Cid%2Cinitcwndbps%2Cip%2Cipbits%2Citag%2Ckeepalive%2Clmt%2Cmime%2Cmm%2Cmn%2Cms%2Cmv%2Cnh%2Cpl%2Crequiressl%2Csource%2Cexpire&mv=m&mt=1548252169&ms=au%2Crdu&key=yt6&ip=223.223.131.150&mn=sn-fpnioxu-jj0e%2Csn-bvvbax-jj0e&mm=31%2C29&txp=5511222&id=o-ALvMj_-BAHt8R2mTa2XAE5Aiy5s6ZVJ9UO5R2_XvN0JZ&signature=DC2735A093A84C669E9C3FF437AD54F7DD8CA2C6.8D1F67EB06F4B757C9628D8F8F7AA3D424C10B68&ratebypass=yes']\n"
     ]
    }
   ],
   "source": [
    "# parse_url\n",
    "print (parse_url())\n",
    "# print(\"Now playing - \",song.duration)"
   ]
  },
  {
   "cell_type": "code",
   "execution_count": 57,
   "metadata": {},
   "outputs": [
    {
     "name": "stdout",
     "output_type": "stream",
     "text": [
      "['https://r1---sn-fpnioxu-jj0e.googlevideo.com/videoplayback?ipbits=0&itag=251&nh=%2CIgppcjAxLmNjdTAxKg8yMjMuMjIzLjE1OC4yMDE&c=WEB&gir=yes&dur=315.521&expire=1548281177&pl=22&ip=223.223.131.150&sparams=clen%2Cdur%2Cei%2Cgir%2Cid%2Cinitcwndbps%2Cip%2Cipbits%2Citag%2Ckeepalive%2Clmt%2Cmime%2Cmm%2Cmn%2Cms%2Cmv%2Cnh%2Cpl%2Crequiressl%2Csource%2Cexpire&ei=-ZBIXP3wA5iLz7sPs_OmwAo&id=o-ADKp5rPzmHyyPaqGbGtHJC6VWq9qs-wafOpSL_0i1obX&initcwndbps=812500&key=yt6&fvip=6&lmt=1548018061579047&clen=5549491&requiressl=yes&mime=audio%2Fwebm&mm=31%2C29&txp=5511222&mn=sn-fpnioxu-jj0e%2Csn-bvvbax-jj0e&ms=au%2Crdu&mt=1548259463&mv=m&keepalive=yes&source=youtube&signature=9075FE86BC375764991D5D1D4D9F67D2B14960D3.E278DF9BBBAE82B3F2769ECBF29A4C804E2025C1&ratebypass=yes', 'https://r1---sn-fpnioxu-jj0l.googlevideo.com/videoplayback?clen=2151040&ip=223.223.131.150&ms=au%2Crdu&pl=22&dur=129.401&mv=m&gir=yes&mm=31%2C29&ipbits=0&c=WEB&mn=sn-fpnioxu-jj0l%2Csn-bvvbax-jj0e&initcwndbps=700000&sparams=clen%2Cdur%2Cei%2Cgir%2Cid%2Cinitcwndbps%2Cip%2Cipbits%2Citag%2Ckeepalive%2Clmt%2Cmime%2Cmm%2Cmn%2Cms%2Cmv%2Cnh%2Cpcm2cms%2Cpl%2Crequiressl%2Csource%2Cexpire&ei=-pBIXMuZE6nCz7sP9PeUkAY&itag=251&id=o-AAxQbD-XTy0MRoQSbajVRG4a47i1KVNEBsHVr0_Kn2Re&fvip=5&mime=audio%2Fwebm&pcm2cms=yes&source=youtube&mt=1548259463&key=yt6&nh=%2CIgppcjAxLmNjdTAxKg8yMjMuMjIzLjE1OC4yMDE&txp=5511222&requiressl=yes&lmt=1544732902874899&expire=1548281178&keepalive=yes&signature=502CE53F82731D73AA7FB29DB36E8C004908C37B.76D70ECCF07D7B7616A058140801104F41235EF3&ratebypass=yes', 'https://r2---sn-fpnioxu-jj0e.googlevideo.com/videoplayback?nh=%2CIgppcjAxLmNjdTAxKg8yMjMuMjIzLjE1OC4yMDE&requiressl=yes&mime=audio%2Fwebm&ip=223.223.131.150&source=youtube&mt=1548259463&itag=251&pl=22&ei=-5BIXNmRMZDGogOplpzwCA&ms=au%2Crdu&clen=3348497&mm=31%2C29&mn=sn-fpnioxu-jj0e%2Csn-bvvbax-jj0e&fvip=3&keepalive=yes&c=WEB&id=o-AMD-RP-pKnD53Q3R3Rgd3mSoeRwy8G58R0GXMR5UNUGj&mv=m&txp=3511222&gir=yes&expire=1548281179&sparams=clen%2Cdur%2Cei%2Cgir%2Cid%2Cinitcwndbps%2Cip%2Cipbits%2Citag%2Ckeepalive%2Clmt%2Cmime%2Cmm%2Cmn%2Cms%2Cmv%2Cnh%2Cpl%2Crequiressl%2Csource%2Cexpire&lmt=1546540015638335&key=yt6&dur=189.181&ipbits=0&initcwndbps=812500&signature=23ED9CBCBC2E507134560D61A5A956FF77CE9016.DF3858B625DCEA141013AA9AEE257B5E466B137C&ratebypass=yes', 'https://r2---sn-fpnioxu-jj0l.googlevideo.com/videoplayback?clen=4145818&itag=251&gir=yes&pl=22&ei=_ZBIXOHTDeOF8QOG1aewDg&ip=223.223.131.150&key=yt6&lmt=1544393028401917&pcm2cms=yes&source=youtube&mv=m&fvip=3&ms=au%2Crdu&mm=31%2C29&mn=sn-fpnioxu-jj0l%2Csn-bvvbax-jj0e&id=o-AB5ARL4GPykSPOhm1gMFHE77hteUUe2teqeqKcF6UYz5&dur=240.081&requiressl=yes&keepalive=yes&txp=5511222&nh=%2CIgppcjAxLmNjdTAxKg8yMjMuMjIzLjE1OC4yMDE&sparams=clen%2Cdur%2Cei%2Cgir%2Cid%2Cinitcwndbps%2Cip%2Cipbits%2Citag%2Ckeepalive%2Clmt%2Cmime%2Cmm%2Cmn%2Cms%2Cmv%2Cnh%2Cpcm2cms%2Cpl%2Crequiressl%2Csource%2Cexpire&ipbits=0&mt=1548259463&expire=1548281181&mime=audio%2Fwebm&c=WEB&initcwndbps=700000&signature=59B94D19662B45A7BFA534B84DE33755D5B2A846.66DF0EDE7537D671C05FA8E30C8EC69406697E8C&ratebypass=yes', 'https://r3---sn-fpnioxu-jj0e.googlevideo.com/videoplayback?mime=audio%2Fwebm&c=WEB&itag=251&initcwndbps=812500&ipbits=0&pl=22&nh=%2CIgppcjAxLmNjdTAxKg8yMjMuMjIzLjE1OC4yMDE&requiressl=yes&clen=5189088&expire=1548281182&fvip=5&txp=5511222&sparams=clen%2Cdur%2Cei%2Cgir%2Cid%2Cinitcwndbps%2Cip%2Cipbits%2Citag%2Ckeepalive%2Clmt%2Cmime%2Cmm%2Cmn%2Cms%2Cmv%2Cnh%2Cpl%2Crequiressl%2Csource%2Cexpire&gir=yes&mn=sn-fpnioxu-jj0e%2Csn-bvvbax-jj0e&mm=31%2C29&ip=223.223.131.150&key=yt6&lmt=1547715624864483&source=youtube&keepalive=yes&dur=299.021&mv=m&mt=1548259463&ms=au%2Crdu&id=o-AHASbHUVX96HdUhtagrGjXgXnhO8GxuWoAJI1m1snVAB&ei=_pBIXLrfI5iEz7sPoNmR2A4&signature=64F768DD0500A3568C5F1EA1FDD410E13337EF14.9EADA0C6774D2C143B34E433E168B09ECA394DC0&ratebypass=yes', 'https://r1---sn-fpnioxu-jj0l.googlevideo.com/videoplayback?dur=279.661&pl=22&initcwndbps=700000&source=youtube&pcm2cms=yes&requiressl=yes&c=WEB&nh=%2CIgppcjAxLmNjdTAxKg8yMjMuMjIzLjE1OC4yMDE&gir=yes&keepalive=yes&id=o-AHAzLXfbouh34SXMpFSSe_0SDC7Xc8ryRQyTSmN2QS_0&clen=5050543&ip=223.223.131.150&sparams=clen%2Cdur%2Cei%2Cgir%2Cid%2Cinitcwndbps%2Cip%2Cipbits%2Citag%2Ckeepalive%2Clmt%2Cmime%2Cmm%2Cmn%2Cms%2Cmv%2Cnh%2Cpcm2cms%2Cpl%2Crequiressl%2Csource%2Cexpire&ei=_5BIXOrVOLOW8QPI4oPQBA&mv=m&mt=1548259463&ms=au%2Crdu&mn=sn-fpnioxu-jj0l%2Csn-bvvbax-jj0e&mm=31%2C29&txp=5511222&fvip=1&expire=1548281184&key=yt6&mime=audio%2Fwebm&ipbits=0&lmt=1540512833169410&itag=251&signature=3449623F1467A2ED224BE5C3D2AFDFB6D5CC141E.387C13B72B5F0C1D1038B8264E7D0E4F1E0D5648&ratebypass=yes', 'https://r1---sn-fpnioxu-jj0e.googlevideo.com/videoplayback?expire=1548281185&dur=291.061&fvip=8&ipbits=0&gcr=in&mn=sn-fpnioxu-jj0e%2Csn-bvvbax-jj0e&mm=31%2C29&pl=22&id=o-AEX8Wez15Cjhf4MxTnr1RjVVY0zLq4avhwG2oXktIptL&sparams=clen%2Cdur%2Cei%2Cgcr%2Cgir%2Cid%2Cinitcwndbps%2Cip%2Cipbits%2Citag%2Ckeepalive%2Clmt%2Cmime%2Cmm%2Cmn%2Cms%2Cmv%2Cnh%2Cpl%2Crequiressl%2Csource%2Cexpire&mv=m&mt=1548259463&ms=au%2Crdu&lmt=1543923335238650&requiressl=yes&ip=223.223.131.150&c=WEB&ei=AZFIXN3XENSF8QOcq5SYBw&keepalive=yes&source=youtube&initcwndbps=812500&itag=251&clen=5071031&nh=%2CIgppcjAxLmNjdTAxKg8yMjMuMjIzLjE1OC4yMDE&key=yt6&mime=audio%2Fwebm&gir=yes&txp=5511222&signature=482CD401A0987D3299DA4D6064A83CCFE759C33C.C9096A390A664C0C3C5E1BDCB0DF2AB901E7238E&ratebypass=yes']\n"
     ]
    }
   ],
   "source": [
    "import webbrowser\n",
    "\n",
    "# MacOS\n",
    "#chrome_path = 'open -a /Applications/Google\\ Chrome.app %s'\n",
    "\n",
    "# Windows\n",
    "chrome_path = 'C:/Program Files (x86)/Google/Chrome/Application/chrome.exe %s'\n",
    "\n",
    "# Linux\n",
    "# chrome_path = '/usr/bin/google-chrome %s'\n",
    "chrome_path_incognito = chrome_path + ' -incognito'\n",
    "songs=parse_url()\n",
    "# print(songs)\n",
    "for item in songs:\n",
    "  webbrowser.get(chrome_path_incognito).open(item)"
   ]
  },
  {
   "cell_type": "code",
   "execution_count": 56,
   "metadata": {
    "collapsed": true
   },
   "outputs": [],
   "source": [
    "import webbrowser"
   ]
  },
  {
   "cell_type": "code",
   "execution_count": 24,
   "metadata": {},
   "outputs": [
    {
     "name": "stdout",
     "output_type": "stream",
     "text": [
      "/c/Program Files (x86)/Microsoft Visual Studio/Shared/Anaconda3_64/Scripts/pip\n"
     ]
    }
   ],
   "source": [
    "!which pip"
   ]
  },
  {
   "cell_type": "code",
   "execution_count": 28,
   "metadata": {},
   "outputs": [
    {
     "name": "stderr",
     "output_type": "stream",
     "text": [
      "which: no Pafy in (/c/Program Files (x86)/Microsoft Visual Studio/Shared/Anaconda3_64:/c/Program Files (x86)/Microsoft Visual Studio/Shared/Anaconda3_64/Library/mingw-w64/bin:/c/Program Files (x86)/Microsoft Visual Studio/Shared/Anaconda3_64/Library/usr/bin:/c/Program Files (x86)/Microsoft Visual Studio/Shared/Anaconda3_64/Library/bin:/c/Program Files (x86)/Microsoft Visual Studio/Shared/Anaconda3_64/Scripts:/c/Program Files (x86)/Microsoft Visual Studio/Shared/Anaconda3_64/bin:/c/Program Files (x86)/Microsoft Visual Studio/Shared/Anaconda3_64/condabin:/c/Program Files (x86)/Microsoft Visual Studio/Shared/Anaconda3_64/condabin:/c/Program Files (x86)/Microsoft Visual Studio/Shared/Anaconda3_64:/c/Program Files (x86)/Microsoft Visual Studio/Shared/Anaconda3_64/Library/mingw-w64/bin:/c/Program Files (x86)/Microsoft Visual Studio/Shared/Anaconda3_64/Library/usr/bin:/c/Program Files (x86)/Microsoft Visual Studio/Shared/Anaconda3_64/Library/bin:/c/Program Files (x86)/Microsoft Visual Studio/Shared/Anaconda3_64/Scripts:/c/Program Files (x86)/Microsoft Visual Studio/Shared/Anaconda3_64/Library/bin:/c/Program Files (x86)/Microsoft SDKs/Azure/CLI2/wbin:/c/Program Files/Docker/Docker/Resources/bin:/c/Program Files/Microsoft MPI/Bin:/c/WINDOWS/system32:/c/WINDOWS:/c/WINDOWS/System32/Wbem:/c/WINDOWS/System32/WindowsPowerShell/v1.0:/c/Program Files/dotnet:/c/Program Files/Microsoft SQL Server/130/Tools/Binn:/c/Program Files (x86)/Microsoft SQL Server/Client SDK/ODBC/130/Tools/Binn:/c/Program Files (x86)/Microsoft SQL Server/140/Tools/Binn:/c/Program Files (x86)/Microsoft SQL Server/140/DTS/Binn:/c/Program Files (x86)/Microsoft SQL Server/140/Tools/Binn/ManagementStudio:/c/Program Files (x86)/Microsoft SQL Server/110/DTS/Binn:/c/Program Files (x86)/Microsoft SQL Server/120/DTS/Binn:/c/Program Files (x86)/Microsoft SQL Server/130/DTS/Binn:/cmd:/mingw64/bin:/usr/bin:/c/curl_7_53_1_openssl_nghttp2_x64:/c/WINDOWS/System32/OpenSSH:/c/Users/ThirdEye/AppData/Local/Programs/Python/Python36-32:/c/Program Files/Microsoft VS Code/bin:/c/Program Files/nodejs:/c/Program Files (x86):/c/Users/ThirdEye/AppData/Local/Programs/Python/Python36-32/Scripts:/c/Program Files (x86)/dotnet:/c/Program Files/dotnet:/c/Program Files (x86)/Microsoft SQL Server/110/Tools/Binn:/c/Users/ThirdEye/AppData/Local/Programs/Python/Python36-32/Scripts:/c/Program Files/Microsoft/Web Platform Installer:/c/WINDOWS/system32/config/systemprofile/.dnx/bin:/c/Program Files/Microsoft DNX/Dnvm:/c/Program Files/Microsoft SQL Server/120/Tools/Binn:/c/Program Files/Java/jdk-11.0.1/bin:/c/Users/ThirdEye/AppData/Local/Microsoft/WindowsApps:/c/Users/ThirdEye/AppData/Local/Programs/Fiddler:/c/Users/ThirdEye/AppData/Local/Microsoft/WindowsApps:/c/Program Files/Microsoft VS Code/bin:/c/Users/ThirdEye/Documents/WindowsPowerShell/Scripts:/c/Users/ThirdEye/AppData/Roaming/npm:/c/Users/ThirdEye/AppData/Local/GitHubDesktop/bin:/c/Users/ThirdEye/AppData/Local/Programs/Python/Python36-32/Scripts:/c/Users/ThirdEye/.dotnet/tools:/c/Program Files/Java/jdk-11.0.1/bin)\n"
     ]
    }
   ],
   "source": [
    "!which Pafy"
   ]
  },
  {
   "cell_type": "code",
   "execution_count": null,
   "metadata": {
    "collapsed": true
   },
   "outputs": [],
   "source": []
  }
 ],
 "metadata": {
  "kernelspec": {
   "display_name": "Python 3",
   "language": "python",
   "name": "python3"
  },
  "language_info": {
   "codemirror_mode": {
    "name": "ipython",
    "version": 3
   },
   "file_extension": ".py",
   "mimetype": "text/x-python",
   "name": "python",
   "nbconvert_exporter": "python",
   "pygments_lexer": "ipython3",
   "version": "3.6.2"
  }
 },
 "nbformat": 4,
 "nbformat_minor": 2
}
